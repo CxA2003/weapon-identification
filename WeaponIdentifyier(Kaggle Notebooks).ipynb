{
 "cells": [
  {
   "cell_type": "markdown",
   "metadata": {},
   "source": [
    "### **DISCLAIMER**:\n",
<<<<<<< HEAD
    "##### This notebook was originally developed on the Kaggle website (as a solution to my lack of computer power). **Please restrain yourself from running the following section unless you are also using an online service to run this notebook**."
=======
    "##### This notebook was originally developed on the Kaggle website (as a solution to lack of computer power). ***Please restrain yourself from running the following section unless you are also using an online service to run this notebook***."
>>>>>>> 340cc2901908e4fab16dbb92ee5b8fe91b190036
   ]
  },
  {
   "cell_type": "markdown",
   "metadata": {},
   "source": [
    "### Kaggle ONLY section\n",
    "\n",
    "(modify paths to fit the service you're using)"
   ]
  },
  {
   "cell_type": "code",
<<<<<<< HEAD
   "execution_count": 1,
   "metadata": {
    "execution": {
     "iopub.execute_input": "2024-08-20T13:14:28.243141Z",
     "iopub.status.busy": "2024-08-20T13:14:28.242864Z",
     "iopub.status.idle": "2024-08-20T13:15:13.292550Z",
     "shell.execute_reply": "2024-08-20T13:15:13.291415Z",
     "shell.execute_reply.started": "2024-08-20T13:14:28.243115Z"
    },
=======
   "execution_count": null,
   "metadata": {
>>>>>>> 340cc2901908e4fab16dbb92ee5b8fe91b190036
    "id": "LCqriibzFmNu",
    "outputId": "86cdf424-a184-4968-8fcf-f78a7a3aa1b7",
    "scrolled": true
   },
<<<<<<< HEAD
   "outputs": [
    {
     "name": "stdout",
     "output_type": "stream",
     "text": [
      "Requirement already satisfied: tensorflow in /opt/conda/lib/python3.10/site-packages (2.15.0)\n",
      "Requirement already satisfied: absl-py>=1.0.0 in /opt/conda/lib/python3.10/site-packages (from tensorflow) (1.4.0)\n",
      "Requirement already satisfied: astunparse>=1.6.0 in /opt/conda/lib/python3.10/site-packages (from tensorflow) (1.6.3)\n",
      "Requirement already satisfied: flatbuffers>=23.5.26 in /opt/conda/lib/python3.10/site-packages (from tensorflow) (23.5.26)\n",
      "Requirement already satisfied: gast!=0.5.0,!=0.5.1,!=0.5.2,>=0.2.1 in /opt/conda/lib/python3.10/site-packages (from tensorflow) (0.5.4)\n",
      "Requirement already satisfied: google-pasta>=0.1.1 in /opt/conda/lib/python3.10/site-packages (from tensorflow) (0.2.0)\n",
      "Requirement already satisfied: h5py>=2.9.0 in /opt/conda/lib/python3.10/site-packages (from tensorflow) (3.10.0)\n",
      "Requirement already satisfied: libclang>=13.0.0 in /opt/conda/lib/python3.10/site-packages (from tensorflow) (16.0.6)\n",
      "Requirement already satisfied: ml-dtypes~=0.2.0 in /opt/conda/lib/python3.10/site-packages (from tensorflow) (0.2.0)\n",
      "Requirement already satisfied: numpy<2.0.0,>=1.23.5 in /opt/conda/lib/python3.10/site-packages (from tensorflow) (1.26.4)\n",
      "Requirement already satisfied: opt-einsum>=2.3.2 in /opt/conda/lib/python3.10/site-packages (from tensorflow) (3.3.0)\n",
      "Requirement already satisfied: packaging in /opt/conda/lib/python3.10/site-packages (from tensorflow) (21.3)\n",
      "Requirement already satisfied: protobuf!=4.21.0,!=4.21.1,!=4.21.2,!=4.21.3,!=4.21.4,!=4.21.5,<5.0.0dev,>=3.20.3 in /opt/conda/lib/python3.10/site-packages (from tensorflow) (3.20.3)\n",
      "Requirement already satisfied: setuptools in /opt/conda/lib/python3.10/site-packages (from tensorflow) (69.0.3)\n",
      "Requirement already satisfied: six>=1.12.0 in /opt/conda/lib/python3.10/site-packages (from tensorflow) (1.16.0)\n",
      "Requirement already satisfied: termcolor>=1.1.0 in /opt/conda/lib/python3.10/site-packages (from tensorflow) (2.4.0)\n",
      "Requirement already satisfied: typing-extensions>=3.6.6 in /opt/conda/lib/python3.10/site-packages (from tensorflow) (4.9.0)\n",
      "Requirement already satisfied: wrapt<1.15,>=1.11.0 in /opt/conda/lib/python3.10/site-packages (from tensorflow) (1.14.1)\n",
      "Requirement already satisfied: tensorflow-io-gcs-filesystem>=0.23.1 in /opt/conda/lib/python3.10/site-packages (from tensorflow) (0.35.0)\n",
      "Requirement already satisfied: grpcio<2.0,>=1.24.3 in /opt/conda/lib/python3.10/site-packages (from tensorflow) (1.60.0)\n",
      "Requirement already satisfied: tensorboard<2.16,>=2.15 in /opt/conda/lib/python3.10/site-packages (from tensorflow) (2.15.1)\n",
      "Requirement already satisfied: tensorflow-estimator<2.16,>=2.15.0 in /opt/conda/lib/python3.10/site-packages (from tensorflow) (2.15.0)\n",
      "Collecting keras<2.16,>=2.15.0 (from tensorflow)\n",
      "  Downloading keras-2.15.0-py3-none-any.whl.metadata (2.4 kB)\n",
      "Requirement already satisfied: wheel<1.0,>=0.23.0 in /opt/conda/lib/python3.10/site-packages (from astunparse>=1.6.0->tensorflow) (0.42.0)\n",
      "Requirement already satisfied: google-auth<3,>=1.6.3 in /opt/conda/lib/python3.10/site-packages (from tensorboard<2.16,>=2.15->tensorflow) (2.26.1)\n",
      "Requirement already satisfied: google-auth-oauthlib<2,>=0.5 in /opt/conda/lib/python3.10/site-packages (from tensorboard<2.16,>=2.15->tensorflow) (1.2.0)\n",
      "Requirement already satisfied: markdown>=2.6.8 in /opt/conda/lib/python3.10/site-packages (from tensorboard<2.16,>=2.15->tensorflow) (3.5.2)\n",
      "Requirement already satisfied: requests<3,>=2.21.0 in /opt/conda/lib/python3.10/site-packages (from tensorboard<2.16,>=2.15->tensorflow) (2.32.3)\n",
      "Requirement already satisfied: tensorboard-data-server<0.8.0,>=0.7.0 in /opt/conda/lib/python3.10/site-packages (from tensorboard<2.16,>=2.15->tensorflow) (0.7.2)\n",
      "Requirement already satisfied: werkzeug>=1.0.1 in /opt/conda/lib/python3.10/site-packages (from tensorboard<2.16,>=2.15->tensorflow) (3.0.3)\n",
      "Requirement already satisfied: pyparsing!=3.0.5,>=2.0.2 in /opt/conda/lib/python3.10/site-packages (from packaging->tensorflow) (3.1.1)\n",
      "Requirement already satisfied: cachetools<6.0,>=2.0.0 in /opt/conda/lib/python3.10/site-packages (from google-auth<3,>=1.6.3->tensorboard<2.16,>=2.15->tensorflow) (4.2.4)\n",
      "Requirement already satisfied: pyasn1-modules>=0.2.1 in /opt/conda/lib/python3.10/site-packages (from google-auth<3,>=1.6.3->tensorboard<2.16,>=2.15->tensorflow) (0.3.0)\n",
      "Requirement already satisfied: rsa<5,>=3.1.4 in /opt/conda/lib/python3.10/site-packages (from google-auth<3,>=1.6.3->tensorboard<2.16,>=2.15->tensorflow) (4.9)\n",
      "Requirement already satisfied: requests-oauthlib>=0.7.0 in /opt/conda/lib/python3.10/site-packages (from google-auth-oauthlib<2,>=0.5->tensorboard<2.16,>=2.15->tensorflow) (1.3.1)\n",
      "Requirement already satisfied: charset-normalizer<4,>=2 in /opt/conda/lib/python3.10/site-packages (from requests<3,>=2.21.0->tensorboard<2.16,>=2.15->tensorflow) (3.3.2)\n",
      "Requirement already satisfied: idna<4,>=2.5 in /opt/conda/lib/python3.10/site-packages (from requests<3,>=2.21.0->tensorboard<2.16,>=2.15->tensorflow) (3.6)\n",
      "Requirement already satisfied: urllib3<3,>=1.21.1 in /opt/conda/lib/python3.10/site-packages (from requests<3,>=2.21.0->tensorboard<2.16,>=2.15->tensorflow) (1.26.18)\n",
      "Requirement already satisfied: certifi>=2017.4.17 in /opt/conda/lib/python3.10/site-packages (from requests<3,>=2.21.0->tensorboard<2.16,>=2.15->tensorflow) (2024.7.4)\n",
      "Requirement already satisfied: MarkupSafe>=2.1.1 in /opt/conda/lib/python3.10/site-packages (from werkzeug>=1.0.1->tensorboard<2.16,>=2.15->tensorflow) (2.1.3)\n",
      "Requirement already satisfied: pyasn1<0.6.0,>=0.4.6 in /opt/conda/lib/python3.10/site-packages (from pyasn1-modules>=0.2.1->google-auth<3,>=1.6.3->tensorboard<2.16,>=2.15->tensorflow) (0.5.1)\n",
      "Requirement already satisfied: oauthlib>=3.0.0 in /opt/conda/lib/python3.10/site-packages (from requests-oauthlib>=0.7.0->google-auth-oauthlib<2,>=0.5->tensorboard<2.16,>=2.15->tensorflow) (3.2.2)\n",
      "Downloading keras-2.15.0-py3-none-any.whl (1.7 MB)\n",
      "\u001b[2K   \u001b[90m━━━━━━━━━━━━━━━━━━━━━━━━━━━━━━━━━━━━━━━━\u001b[0m \u001b[32m1.7/1.7 MB\u001b[0m \u001b[31m18.1 MB/s\u001b[0m eta \u001b[36m0:00:00\u001b[0ma \u001b[36m0:00:01\u001b[0m\n",
      "\u001b[?25hInstalling collected packages: keras\n",
      "  Attempting uninstall: keras\n",
      "    Found existing installation: keras 3.4.1\n",
      "    Uninstalling keras-3.4.1:\n",
      "      Successfully uninstalled keras-3.4.1\n",
      "\u001b[31mERROR: pip's dependency resolver does not currently take into account all the packages that are installed. This behaviour is the source of the following dependency conflicts.\n",
      "tensorflow-decision-forests 1.8.1 requires wurlitzer, which is not installed.\u001b[0m\u001b[31m\n",
      "\u001b[0mSuccessfully installed keras-2.15.0\n",
      "Requirement already satisfied: torch in /opt/conda/lib/python3.10/site-packages (2.1.2)\n",
      "Requirement already satisfied: torchvision in /opt/conda/lib/python3.10/site-packages (0.16.2)\n",
      "Requirement already satisfied: torchaudio in /opt/conda/lib/python3.10/site-packages (2.1.2)\n",
      "Requirement already satisfied: filelock in /opt/conda/lib/python3.10/site-packages (from torch) (3.13.1)\n",
      "Requirement already satisfied: typing-extensions in /opt/conda/lib/python3.10/site-packages (from torch) (4.9.0)\n",
      "Requirement already satisfied: sympy in /opt/conda/lib/python3.10/site-packages (from torch) (1.13.0)\n",
      "Requirement already satisfied: networkx in /opt/conda/lib/python3.10/site-packages (from torch) (3.2.1)\n",
      "Requirement already satisfied: jinja2 in /opt/conda/lib/python3.10/site-packages (from torch) (3.1.2)\n",
      "Requirement already satisfied: fsspec in /opt/conda/lib/python3.10/site-packages (from torch) (2024.5.0)\n",
      "Requirement already satisfied: numpy in /opt/conda/lib/python3.10/site-packages (from torchvision) (1.26.4)\n",
      "Requirement already satisfied: requests in /opt/conda/lib/python3.10/site-packages (from torchvision) (2.32.3)\n",
      "Requirement already satisfied: pillow!=8.3.*,>=5.3.0 in /opt/conda/lib/python3.10/site-packages (from torchvision) (9.5.0)\n",
      "Requirement already satisfied: MarkupSafe>=2.0 in /opt/conda/lib/python3.10/site-packages (from jinja2->torch) (2.1.3)\n",
      "Requirement already satisfied: charset-normalizer<4,>=2 in /opt/conda/lib/python3.10/site-packages (from requests->torchvision) (3.3.2)\n",
      "Requirement already satisfied: idna<4,>=2.5 in /opt/conda/lib/python3.10/site-packages (from requests->torchvision) (3.6)\n",
      "Requirement already satisfied: urllib3<3,>=1.21.1 in /opt/conda/lib/python3.10/site-packages (from requests->torchvision) (1.26.18)\n",
      "Requirement already satisfied: certifi>=2017.4.17 in /opt/conda/lib/python3.10/site-packages (from requests->torchvision) (2024.7.4)\n",
      "Requirement already satisfied: mpmath<1.4,>=1.1.0 in /opt/conda/lib/python3.10/site-packages (from sympy->torch) (1.3.0)\n",
      "Collecting openimages\n",
      "  Downloading openimages-0.0.1-py2.py3-none-any.whl.metadata (4.6 kB)\n",
      "Requirement already satisfied: boto3 in /opt/conda/lib/python3.10/site-packages (from openimages) (1.26.100)\n",
      "Collecting cvdata (from openimages)\n",
      "  Downloading cvdata-0.0.3-py3-none-any.whl.metadata (7.2 kB)\n",
      "Requirement already satisfied: lxml in /opt/conda/lib/python3.10/site-packages (from openimages) (5.2.2)\n",
      "Requirement already satisfied: pandas in /opt/conda/lib/python3.10/site-packages (from openimages) (2.2.2)\n",
      "Requirement already satisfied: requests in /opt/conda/lib/python3.10/site-packages (from openimages) (2.32.3)\n",
      "Requirement already satisfied: tqdm in /opt/conda/lib/python3.10/site-packages (from openimages) (4.66.4)\n",
      "Collecting botocore<1.30.0,>=1.29.100 (from boto3->openimages)\n",
      "  Downloading botocore-1.29.165-py3-none-any.whl.metadata (5.9 kB)\n",
      "Requirement already satisfied: jmespath<2.0.0,>=0.7.1 in /opt/conda/lib/python3.10/site-packages (from boto3->openimages) (1.0.1)\n",
      "Requirement already satisfied: s3transfer<0.7.0,>=0.6.0 in /opt/conda/lib/python3.10/site-packages (from boto3->openimages) (0.6.2)\n",
      "Requirement already satisfied: numpy in /opt/conda/lib/python3.10/site-packages (from cvdata->openimages) (1.26.4)\n",
      "Requirement already satisfied: opencv-python in /opt/conda/lib/python3.10/site-packages (from cvdata->openimages) (4.10.0.84)\n",
      "Requirement already satisfied: pillow in /opt/conda/lib/python3.10/site-packages (from cvdata->openimages) (9.5.0)\n",
      "Requirement already satisfied: python-dateutil>=2.8.2 in /opt/conda/lib/python3.10/site-packages (from pandas->openimages) (2.9.0.post0)\n",
      "Requirement already satisfied: pytz>=2020.1 in /opt/conda/lib/python3.10/site-packages (from pandas->openimages) (2023.3.post1)\n",
      "Requirement already satisfied: tzdata>=2022.7 in /opt/conda/lib/python3.10/site-packages (from pandas->openimages) (2023.4)\n",
      "Requirement already satisfied: charset-normalizer<4,>=2 in /opt/conda/lib/python3.10/site-packages (from requests->openimages) (3.3.2)\n",
      "Requirement already satisfied: idna<4,>=2.5 in /opt/conda/lib/python3.10/site-packages (from requests->openimages) (3.6)\n",
      "Requirement already satisfied: urllib3<3,>=1.21.1 in /opt/conda/lib/python3.10/site-packages (from requests->openimages) (1.26.18)\n",
      "Requirement already satisfied: certifi>=2017.4.17 in /opt/conda/lib/python3.10/site-packages (from requests->openimages) (2024.7.4)\n",
      "Requirement already satisfied: six>=1.5 in /opt/conda/lib/python3.10/site-packages (from python-dateutil>=2.8.2->pandas->openimages) (1.16.0)\n",
      "Downloading openimages-0.0.1-py2.py3-none-any.whl (10 kB)\n",
      "Downloading cvdata-0.0.3-py3-none-any.whl (37 kB)\n",
      "Downloading botocore-1.29.165-py3-none-any.whl (11.0 MB)\n",
      "\u001b[2K   \u001b[90m━━━━━━━━━━━━━━━━━━━━━━━━━━━━━━━━━━━━━━━━\u001b[0m \u001b[32m11.0/11.0 MB\u001b[0m \u001b[31m66.0 MB/s\u001b[0m eta \u001b[36m0:00:00\u001b[0m:00:01\u001b[0m:01\u001b[0m\n",
      "\u001b[?25hInstalling collected packages: botocore, cvdata, openimages\n",
      "  Attempting uninstall: botocore\n",
      "    Found existing installation: botocore 1.34.131\n",
      "    Uninstalling botocore-1.34.131:\n",
      "      Successfully uninstalled botocore-1.34.131\n",
      "\u001b[31mERROR: pip's dependency resolver does not currently take into account all the packages that are installed. This behaviour is the source of the following dependency conflicts.\n",
      "aiobotocore 2.13.1 requires aiohttp<4.0.0,>=3.9.2, but you have aiohttp 3.9.1 which is incompatible.\n",
      "aiobotocore 2.13.1 requires botocore<1.34.132,>=1.34.70, but you have botocore 1.29.165 which is incompatible.\u001b[0m\u001b[31m\n",
      "\u001b[0mSuccessfully installed botocore-1.29.165 cvdata-0.0.3 openimages-0.0.1\n"
     ]
    }
   ],
=======
   "outputs": [],
>>>>>>> 340cc2901908e4fab16dbb92ee5b8fe91b190036
   "source": [
    "!pip install tensorflow\n",
    "!pip install torch torchvision torchaudio\n",
    "!pip install openimages"
   ]
  },
  {
   "cell_type": "code",
<<<<<<< HEAD
   "execution_count": 2,
   "metadata": {
    "execution": {
     "iopub.execute_input": "2024-08-20T13:15:13.294704Z",
     "iopub.status.busy": "2024-08-20T13:15:13.294381Z",
     "iopub.status.idle": "2024-08-20T13:15:17.227461Z",
     "shell.execute_reply": "2024-08-20T13:15:17.226269Z",
     "shell.execute_reply.started": "2024-08-20T13:15:13.294667Z"
    }
   },
=======
   "execution_count": null,
   "metadata": {},
>>>>>>> 340cc2901908e4fab16dbb92ee5b8fe91b190036
   "outputs": [],
   "source": [
    "!mkdir /kaggle/working/guns\n",
    "!mkdir /kaggle/working/non-guns\n",
    "!touch /kaggle/working/guns/exclusions.txt\n",
    "!touch /kaggle/working/non-guns/exclusions.txt"
   ]
  },
  {
   "cell_type": "markdown",
   "metadata": {},
   "source": [
    "### Imports and Data Gathering"
   ]
  },
  {
   "cell_type": "code",
<<<<<<< HEAD
   "execution_count": 27,
   "metadata": {
    "execution": {
     "iopub.execute_input": "2024-08-20T13:45:09.244453Z",
     "iopub.status.busy": "2024-08-20T13:45:09.243621Z",
     "iopub.status.idle": "2024-08-20T13:45:09.250898Z",
     "shell.execute_reply": "2024-08-20T13:45:09.249914Z",
     "shell.execute_reply.started": "2024-08-20T13:45:09.244406Z"
    },
=======
   "execution_count": null,
   "metadata": {
>>>>>>> 340cc2901908e4fab16dbb92ee5b8fe91b190036
    "id": "KPsArsQiHX4L"
   },
   "outputs": [],
   "source": [
    "import os\n",
    "import numpy as np\n",
    "import matplotlib.pyplot as plt\n",
    "from PIL import Image\n",
    "from tensorflow.keras.models import Model, Sequential\n",
    "from tensorflow.keras.layers import Dense, Dropout, Flatten, Conv2D, MaxPooling2D, BatchNormalization, GlobalAveragePooling2D, Input\n",
    "from tensorflow.keras.applications import VGG16\n",
    "from tensorflow.keras.utils import to_categorical\n",
    "from tensorflow.keras.preprocessing.image import ImageDataGenerator\n",
    "from sklearn.model_selection import train_test_split\n",
    "from tensorflow.keras.optimizers import Adam\n",
    "from tensorflow.keras.callbacks import EarlyStopping\n",
    "from tensorflow.keras.applications.vgg16 import preprocess_input\n",
<<<<<<< HEAD
    "from openimages.download import download_images\n",
    "from sklearn.metrics import confusion_matrix, classification_report"
=======
    "from openimages.download import download_images"
>>>>>>> 340cc2901908e4fab16dbb92ee5b8fe91b190036
   ]
  },
  {
   "cell_type": "markdown",
   "metadata": {},
   "source": [
    "##### Downloading the guns data"
   ]
  },
  {
   "cell_type": "code",
<<<<<<< HEAD
   "execution_count": 4,
   "metadata": {
    "execution": {
     "iopub.execute_input": "2024-08-20T13:15:29.134255Z",
     "iopub.status.busy": "2024-08-20T13:15:29.133776Z",
     "iopub.status.idle": "2024-08-20T13:17:45.692380Z",
     "shell.execute_reply": "2024-08-20T13:17:45.691487Z",
     "shell.execute_reply.started": "2024-08-20T13:15:29.134230Z"
    },
    "id": "JFU2JRyqRjCo",
    "outputId": "b72f87a6-97c8-4f29-f167-0c29b0ef9cd4"
   },
   "outputs": [
    {
     "name": "stderr",
     "output_type": "stream",
     "text": [
      "100%|██████████| 224/224 [00:03<00:00, 70.63it/s]\n",
      "100%|██████████| 13/13 [00:00<00:00, 24.00it/s]\n",
      "100%|██████████| 44/44 [00:01<00:00, 42.24it/s]\n",
      "100%|██████████| 1127/1127 [00:16<00:00, 67.51it/s]\n",
      "100%|██████████| 53/53 [00:01<00:00, 50.55it/s]\n",
      "100%|██████████| 176/176 [00:02<00:00, 60.18it/s]\n",
      "100%|██████████| 45/45 [00:00<00:00, 61.93it/s]\n",
      "100%|██████████| 11/11 [00:00<00:00, 18.63it/s]\n",
      "100%|██████████| 42/42 [00:00<00:00, 55.81it/s]\n"
     ]
    }
   ],
=======
   "execution_count": null,
   "metadata": {
    "id": "JFU2JRyqRjCo",
    "outputId": "b72f87a6-97c8-4f29-f167-0c29b0ef9cd4"
   },
   "outputs": [],
>>>>>>> 340cc2901908e4fab16dbb92ee5b8fe91b190036
   "source": [
    "# Define the categories you want to download\n",
    "categories = [\"Handgun\", \"Rifle\", \"Shotgun\"]\n",
    "\n",
    "# Path to the exclusions file (modify if not working on Kaggle notebook)\n",
    "exclusions_path = '/kaggle/working/guns/exclusions.txt'\n",
    "\n",
    "# Download images for each category and store them on created folder (guns)\n",
    "for category in categories:\n",
    "    download_images('/kaggle/working/guns', [category], exclusions_path, limit=2000)"
   ]
  },
  {
   "cell_type": "markdown",
   "metadata": {},
   "source": [
    "##### Downloading the non-guns data"
   ]
  },
  {
   "cell_type": "code",
<<<<<<< HEAD
   "execution_count": 5,
   "metadata": {
    "execution": {
     "iopub.execute_input": "2024-08-20T13:17:45.693981Z",
     "iopub.status.busy": "2024-08-20T13:17:45.693614Z",
     "iopub.status.idle": "2024-08-20T13:20:50.321780Z",
     "shell.execute_reply": "2024-08-20T13:20:50.320885Z",
     "shell.execute_reply.started": "2024-08-20T13:17:45.693948Z"
    },
=======
   "execution_count": null,
   "metadata": {
>>>>>>> 340cc2901908e4fab16dbb92ee5b8fe91b190036
    "id": "y0xZAbW4hSOR",
    "outputId": "13654d22-8c52-4101-9a8a-9cf4782fc571",
    "scrolled": true
   },
<<<<<<< HEAD
   "outputs": [
    {
     "name": "stderr",
     "output_type": "stream",
     "text": [
      "100%|██████████| 2000/2000 [00:28<00:00, 70.37it/s]\n",
      "100%|██████████| 2000/2000 [00:28<00:00, 71.18it/s]\n",
      "100%|██████████| 2000/2000 [00:28<00:00, 70.94it/s]\n"
     ]
    }
   ],
=======
   "outputs": [],
>>>>>>> 340cc2901908e4fab16dbb92ee5b8fe91b190036
   "source": [
    "# Define the categories you want to download\n",
    "categories = [\"Cat\", \"Dog\", \"Car\"]\n",
    "\n",
    "# Path to the exclusions file (modify if not working on Kaggle notebook)\n",
    "exclusions_path = '/kaggle/working/non-guns/exclusions.txt'\n",
    "\n",
    "# Download images for each category and store them on created folder (non-guns)\n",
    "for category in categories:\n",
    "    download_images('/kaggle/working/non-guns/', [category], exclusions_path, limit=2000)"
   ]
  },
  {
   "cell_type": "markdown",
   "metadata": {},
   "source": [
    "### Model Preprocessing"
   ]
  },
  {
   "cell_type": "code",
<<<<<<< HEAD
   "execution_count": 6,
   "metadata": {
    "execution": {
     "iopub.execute_input": "2024-08-20T13:20:50.323196Z",
     "iopub.status.busy": "2024-08-20T13:20:50.322906Z",
     "iopub.status.idle": "2024-08-20T13:20:50.331670Z",
     "shell.execute_reply": "2024-08-20T13:20:50.330802Z",
     "shell.execute_reply.started": "2024-08-20T13:20:50.323171Z"
    },
=======
   "execution_count": null,
   "metadata": {
>>>>>>> 340cc2901908e4fab16dbb92ee5b8fe91b190036
    "id": "cT7rPAcsukt_"
   },
   "outputs": [],
   "source": [
    "# Define function to load and preprocess images\n",
    "def load_images_from_folder(root, img_size=(224, 224)):\n",
    "    images = []\n",
    "    labels = []\n",
    "    # Map the categories\n",
    "    label_map = {'handgun': 0, 'rifle': 0, 'shotgun': 0, 'cat': 1, 'dog': 1, 'car': 1}\n",
    "    # Loop through images and return as array with labels\n",
    "    for category in os.listdir(root):\n",
    "        category_path = os.path.join(root, category, \"images\")\n",
    "        if os.path.isdir(category_path):\n",
    "            for img_name in os.listdir(category_path):\n",
    "                if img_name.lower().endswith(('.jpg', '.jpeg', '.png')):\n",
    "                    img_path = os.path.join(category_path, img_name)\n",
    "                    image = Image.open(img_path).convert(\"RGB\")\n",
    "                    image = image.resize(img_size)\n",
    "                    image = np.array(image)\n",
    "                    image = preprocess_input(image)\n",
    "                    images.append(image)\n",
    "                    labels.append(label_map.get(category, -1))\n",
    "    return np.array(images), np.array(labels)"
   ]
  },
  {
   "cell_type": "code",
<<<<<<< HEAD
   "execution_count": 7,
   "metadata": {
    "execution": {
     "iopub.execute_input": "2024-08-20T13:20:50.333187Z",
     "iopub.status.busy": "2024-08-20T13:20:50.332927Z",
     "iopub.status.idle": "2024-08-20T13:22:46.863925Z",
     "shell.execute_reply": "2024-08-20T13:22:46.862777Z",
     "shell.execute_reply.started": "2024-08-20T13:20:50.333165Z"
    }
   },
=======
   "execution_count": null,
   "metadata": {},
>>>>>>> 340cc2901908e4fab16dbb92ee5b8fe91b190036
   "outputs": [],
   "source": [
    "# Load and preprocess datasets\n",
    "X_guns, y_guns = load_images_from_folder('/kaggle/working/guns')\n",
    "X_non_guns, y_non_guns = load_images_from_folder('/kaggle/working/non-guns')"
   ]
  },
  {
   "cell_type": "code",
<<<<<<< HEAD
   "execution_count": 8,
   "metadata": {
    "execution": {
     "iopub.execute_input": "2024-08-20T13:22:46.865623Z",
     "iopub.status.busy": "2024-08-20T13:22:46.865292Z",
     "iopub.status.idle": "2024-08-20T13:22:48.519112Z",
     "shell.execute_reply": "2024-08-20T13:22:48.517990Z",
     "shell.execute_reply.started": "2024-08-20T13:22:46.865596Z"
    }
   },
=======
   "execution_count": null,
   "metadata": {},
>>>>>>> 340cc2901908e4fab16dbb92ee5b8fe91b190036
   "outputs": [],
   "source": [
    "# Combine datasets\n",
    "X = np.concatenate((X_guns, X_non_guns), axis=0)\n",
    "y = np.concatenate((y_guns, y_non_guns), axis=0)"
   ]
  },
  {
   "cell_type": "code",
<<<<<<< HEAD
   "execution_count": 9,
   "metadata": {
    "execution": {
     "iopub.execute_input": "2024-08-20T13:22:48.520722Z",
     "iopub.status.busy": "2024-08-20T13:22:48.520381Z",
     "iopub.status.idle": "2024-08-20T13:22:48.527111Z",
     "shell.execute_reply": "2024-08-20T13:22:48.526036Z",
     "shell.execute_reply.started": "2024-08-20T13:22:48.520694Z"
    }
   },
=======
   "execution_count": null,
   "metadata": {},
>>>>>>> 340cc2901908e4fab16dbb92ee5b8fe91b190036
   "outputs": [],
   "source": [
    "# Ensure the labels are binary: 0 for guns, 1 for non-guns\n",
    "y = np.where(y == 0, 0, 1)\n",
    "\n",
    "# One-hot encode labels\n",
    "y = to_categorical(y, num_classes=2)"
   ]
  },
  {
   "cell_type": "code",
<<<<<<< HEAD
   "execution_count": 10,
   "metadata": {
    "execution": {
     "iopub.execute_input": "2024-08-20T13:22:48.532291Z",
     "iopub.status.busy": "2024-08-20T13:22:48.532004Z",
     "iopub.status.idle": "2024-08-20T13:22:49.847502Z",
     "shell.execute_reply": "2024-08-20T13:22:49.846487Z",
     "shell.execute_reply.started": "2024-08-20T13:22:48.532265Z"
    }
   },
=======
   "execution_count": null,
   "metadata": {},
>>>>>>> 340cc2901908e4fab16dbb92ee5b8fe91b190036
   "outputs": [],
   "source": [
    "# Split into training and test sets\n",
    "X_train, X_test, y_train, y_test = train_test_split(X, y, test_size=0.2, random_state=2024) "
   ]
  },
  {
   "cell_type": "markdown",
   "metadata": {},
   "source": [
    "### Our Baseline"
   ]
  },
  {
   "cell_type": "code",
<<<<<<< HEAD
   "execution_count": 11,
   "metadata": {
    "execution": {
     "iopub.execute_input": "2024-08-20T13:22:49.849125Z",
     "iopub.status.busy": "2024-08-20T13:22:49.848751Z",
     "iopub.status.idle": "2024-08-20T13:22:49.854118Z",
     "shell.execute_reply": "2024-08-20T13:22:49.853030Z",
     "shell.execute_reply.started": "2024-08-20T13:22:49.849089Z"
    }
   },
=======
   "execution_count": null,
   "metadata": {},
>>>>>>> 340cc2901908e4fab16dbb92ee5b8fe91b190036
   "outputs": [],
   "source": [
    "# Count the number of images in each class\n",
    "guns_count = np.sum(y == 0)\n",
    "non_guns_count = np.sum(y == 1)"
   ]
  },
  {
   "cell_type": "code",
<<<<<<< HEAD
   "execution_count": 12,
   "metadata": {
    "execution": {
     "iopub.execute_input": "2024-08-20T13:22:49.855867Z",
     "iopub.status.busy": "2024-08-20T13:22:49.855589Z",
     "iopub.status.idle": "2024-08-20T13:22:49.863837Z",
     "shell.execute_reply": "2024-08-20T13:22:49.862954Z",
     "shell.execute_reply.started": "2024-08-20T13:22:49.855845Z"
    }
   },
   "outputs": [
    {
     "name": "stdout",
     "output_type": "stream",
     "text": [
      "Number of Gun Images: 7735\n",
      "Number of Non-Gun Images: 7735\n"
     ]
    }
   ],
=======
   "execution_count": null,
   "metadata": {},
   "outputs": [],
>>>>>>> 340cc2901908e4fab16dbb92ee5b8fe91b190036
   "source": [
    "# Print the class distribution\n",
    "print(f'Number of Gun Images: {guns_count}')\n",
    "print(f'Number of Non-Gun Images: {non_guns_count}')"
   ]
  },
  {
   "cell_type": "code",
<<<<<<< HEAD
   "execution_count": 13,
   "metadata": {
    "execution": {
     "iopub.execute_input": "2024-08-20T13:22:49.865218Z",
     "iopub.status.busy": "2024-08-20T13:22:49.864918Z",
     "iopub.status.idle": "2024-08-20T13:22:49.872967Z",
     "shell.execute_reply": "2024-08-20T13:22:49.872133Z",
     "shell.execute_reply.started": "2024-08-20T13:22:49.865196Z"
    }
   },
=======
   "execution_count": null,
   "metadata": {},
>>>>>>> 340cc2901908e4fab16dbb92ee5b8fe91b190036
   "outputs": [],
   "source": [
    "# Calculate the baseline accuracy (most frequent class)\n",
    "majority_class_count = max(guns_count, non_guns_count)\n",
    "total_count = guns_count + non_guns_count\n",
    "baseline_accuracy = majority_class_count / total_count"
   ]
  },
  {
   "cell_type": "code",
<<<<<<< HEAD
   "execution_count": 14,
   "metadata": {
    "execution": {
     "iopub.execute_input": "2024-08-20T13:22:49.874640Z",
     "iopub.status.busy": "2024-08-20T13:22:49.874195Z",
     "iopub.status.idle": "2024-08-20T13:22:49.883915Z",
     "shell.execute_reply": "2024-08-20T13:22:49.883016Z",
     "shell.execute_reply.started": "2024-08-20T13:22:49.874607Z"
    }
   },
   "outputs": [
    {
     "name": "stdout",
     "output_type": "stream",
     "text": [
      "Baseline Accuracy: 0.5000\n"
     ]
    }
   ],
=======
   "execution_count": null,
   "metadata": {},
   "outputs": [],
>>>>>>> 340cc2901908e4fab16dbb92ee5b8fe91b190036
   "source": [
    "print(f'Baseline Accuracy: {baseline_accuracy:.4f}')"
   ]
  },
  {
   "cell_type": "markdown",
   "metadata": {},
   "source": [
    "### Creating our model:"
   ]
  },
  {
   "cell_type": "code",
<<<<<<< HEAD
   "execution_count": 31,
   "metadata": {
    "execution": {
     "iopub.execute_input": "2024-08-20T14:05:37.794189Z",
     "iopub.status.busy": "2024-08-20T14:05:37.793505Z",
     "iopub.status.idle": "2024-08-20T14:05:38.112295Z",
     "shell.execute_reply": "2024-08-20T14:05:38.111501Z",
     "shell.execute_reply.started": "2024-08-20T14:05:37.794156Z"
    }
   },
=======
   "execution_count": null,
   "metadata": {},
>>>>>>> 340cc2901908e4fab16dbb92ee5b8fe91b190036
   "outputs": [],
   "source": [
    "# Load VGG16\n",
    "base_model = VGG16(weights='imagenet', include_top=False, input_shape=(224, 224, 3))"
   ]
  },
  {
   "cell_type": "code",
<<<<<<< HEAD
   "execution_count": 32,
   "metadata": {
    "execution": {
     "iopub.execute_input": "2024-08-20T14:05:38.114846Z",
     "iopub.status.busy": "2024-08-20T14:05:38.114297Z",
     "iopub.status.idle": "2024-08-20T14:05:38.120034Z",
     "shell.execute_reply": "2024-08-20T14:05:38.118971Z",
     "shell.execute_reply.started": "2024-08-20T14:05:38.114811Z"
    }
   },
=======
   "execution_count": null,
   "metadata": {},
>>>>>>> 340cc2901908e4fab16dbb92ee5b8fe91b190036
   "outputs": [],
   "source": [
    "# Freeze the layers except the last few\n",
    "for layer in base_model.layers[:-4]:\n",
    "    layer.trainable = False"
   ]
  },
  {
   "cell_type": "code",
<<<<<<< HEAD
   "execution_count": 33,
   "metadata": {
    "execution": {
     "iopub.execute_input": "2024-08-20T14:05:38.121336Z",
     "iopub.status.busy": "2024-08-20T14:05:38.121065Z",
     "iopub.status.idle": "2024-08-20T14:05:38.242779Z",
     "shell.execute_reply": "2024-08-20T14:05:38.242081Z",
     "shell.execute_reply.started": "2024-08-20T14:05:38.121312Z"
    }
   },
   "outputs": [],
   "source": [
    "# Build the model using Sequential\n",
    "model = Sequential([\n",
    "    base_model,\n",
    "    GlobalAveragePooling2D(),\n",
    "    Dense(256, activation='relu'),\n",
    "    BatchNormalization(),\n",
    "    Dropout(0.5),\n",
    "    Dense(2, activation='softmax')\n",
    "])"
=======
   "execution_count": null,
   "metadata": {},
   "outputs": [],
   "source": [
    "# Input layer\n",
    "inputs = Input(shape=(224, 224, 3))"
>>>>>>> 340cc2901908e4fab16dbb92ee5b8fe91b190036
   ]
  },
  {
   "cell_type": "code",
<<<<<<< HEAD
   "execution_count": 34,
   "metadata": {
    "execution": {
     "iopub.execute_input": "2024-08-20T14:05:38.245740Z",
     "iopub.status.busy": "2024-08-20T14:05:38.245144Z",
     "iopub.status.idle": "2024-08-20T14:05:38.255541Z",
     "shell.execute_reply": "2024-08-20T14:05:38.254760Z",
     "shell.execute_reply.started": "2024-08-20T14:05:38.245702Z"
    }
   },
=======
   "execution_count": null,
   "metadata": {},
   "outputs": [],
   "source": [
    "# Pass the inputs through the base model\n",
    "x = base_model(inputs)"
   ]
  },
  {
   "cell_type": "code",
   "execution_count": null,
   "metadata": {},
   "outputs": [],
   "source": [
    "# Add custom layers on top\n",
    "x = GlobalAveragePooling2D()(x)\n",
    "x = Dense(128, activation='relu')(x)\n",
    "x = BatchNormalization()(x)\n",
    "x = Dropout(0.5)(x)\n",
    "outputs = Dense(2, activation='softmax')(x)"
   ]
  },
  {
   "cell_type": "code",
   "execution_count": null,
   "metadata": {},
   "outputs": [],
   "source": [
    "# Define the model\n",
    "model = Model(inputs, outputs)"
   ]
  },
  {
   "cell_type": "code",
   "execution_count": null,
   "metadata": {},
>>>>>>> 340cc2901908e4fab16dbb92ee5b8fe91b190036
   "outputs": [],
   "source": [
    "# Compile the model with a smaller learning rate\n",
    "model.compile(optimizer=Adam(learning_rate=0.0001), loss='categorical_crossentropy', metrics=['accuracy'])"
   ]
  },
  {
   "cell_type": "code",
<<<<<<< HEAD
   "execution_count": 35,
   "metadata": {
    "execution": {
     "iopub.execute_input": "2024-08-20T14:05:38.257103Z",
     "iopub.status.busy": "2024-08-20T14:05:38.256735Z",
     "iopub.status.idle": "2024-08-20T14:22:52.999174Z",
     "shell.execute_reply": "2024-08-20T14:22:52.998189Z",
     "shell.execute_reply.started": "2024-08-20T14:05:38.257078Z"
    },
    "id": "DMS6G_rcum3D",
    "outputId": "02a60b31-7bd0-4ec9-c9c3-582d3f481420"
   },
   "outputs": [
    {
     "name": "stdout",
     "output_type": "stream",
     "text": [
      "Epoch 1/20\n",
      "194/194 [==============================] - 90s 451ms/step - loss: 0.4214 - accuracy: 0.8300 - val_loss: 0.3721 - val_accuracy: 0.9250\n",
      "Epoch 2/20\n",
      "194/194 [==============================] - 86s 442ms/step - loss: 0.1886 - accuracy: 0.9365 - val_loss: 0.0952 - val_accuracy: 0.9787\n",
      "Epoch 3/20\n",
      "194/194 [==============================] - 86s 443ms/step - loss: 0.1514 - accuracy: 0.9491 - val_loss: 0.1493 - val_accuracy: 0.9606\n",
      "Epoch 4/20\n",
      "194/194 [==============================] - 86s 441ms/step - loss: 0.1372 - accuracy: 0.9580 - val_loss: 0.0755 - val_accuracy: 0.9800\n",
      "Epoch 5/20\n",
      "194/194 [==============================] - 86s 442ms/step - loss: 0.1143 - accuracy: 0.9628 - val_loss: 0.0935 - val_accuracy: 0.9806\n",
      "Epoch 6/20\n",
      "194/194 [==============================] - 85s 439ms/step - loss: 0.1152 - accuracy: 0.9625 - val_loss: 0.0965 - val_accuracy: 0.9813\n",
      "Epoch 7/20\n",
      "194/194 [==============================] - 87s 446ms/step - loss: 0.0928 - accuracy: 0.9683 - val_loss: 0.0639 - val_accuracy: 0.9806\n",
      "Epoch 8/20\n",
      "194/194 [==============================] - 85s 440ms/step - loss: 0.1170 - accuracy: 0.9602 - val_loss: 0.8752 - val_accuracy: 0.8274\n",
      "Epoch 9/20\n",
      "194/194 [==============================] - 86s 443ms/step - loss: 0.1090 - accuracy: 0.9643 - val_loss: 0.3766 - val_accuracy: 0.9173\n",
      "Epoch 10/20\n",
      "194/194 [==============================] - 86s 443ms/step - loss: 0.1046 - accuracy: 0.9635 - val_loss: 0.0930 - val_accuracy: 0.9800\n",
      "Epoch 11/20\n",
      "194/194 [==============================] - 86s 442ms/step - loss: 0.0838 - accuracy: 0.9709 - val_loss: 0.1775 - val_accuracy: 0.9657\n",
      "Epoch 12/20\n",
      "194/194 [==============================] - 85s 440ms/step - loss: 0.0721 - accuracy: 0.9775 - val_loss: 0.1217 - val_accuracy: 0.9780\n"
     ]
    }
   ],
=======
   "execution_count": null,
   "metadata": {
    "id": "DMS6G_rcum3D",
    "outputId": "02a60b31-7bd0-4ec9-c9c3-582d3f481420"
   },
   "outputs": [],
>>>>>>> 340cc2901908e4fab16dbb92ee5b8fe91b190036
   "source": [
    "# Data augmentation\n",
    "datagen = ImageDataGenerator(\n",
    "    rotation_range=40,\n",
    "    width_shift_range=0.3,\n",
    "    height_shift_range=0.3,\n",
    "    shear_range=0.3,\n",
    "    zoom_range=0.3,\n",
    "    horizontal_flip=True,\n",
    "    fill_mode='nearest'\n",
    ")\n",
    "\n",
    "# Early stopping\n",
    "early_stopping = EarlyStopping(monitor='val_loss', patience=5, restore_best_weights=True)\n",
    "\n",
    "# Train the model\n",
    "history = model.fit(\n",
    "    datagen.flow(X_train, y_train, batch_size=32),\n",
    "    validation_data=(X_test, y_test),\n",
    "    epochs=20,\n",
    "    callbacks=[early_stopping]\n",
    ")"
   ]
  },
  {
<<<<<<< HEAD
   "cell_type": "markdown",
   "metadata": {},
   "source": [
    "### Model Evaluation"
   ]
  },
  {
   "cell_type": "markdown",
   "metadata": {},
   "source": [
    "##### Visualization of model's loss and accuracy"
   ]
  },
  {
   "cell_type": "code",
   "execution_count": 36,
   "metadata": {
    "execution": {
     "iopub.execute_input": "2024-08-20T14:22:53.000800Z",
     "iopub.status.busy": "2024-08-20T14:22:53.000494Z",
     "iopub.status.idle": "2024-08-20T14:22:53.609938Z",
     "shell.execute_reply": "2024-08-20T14:22:53.609052Z",
     "shell.execute_reply.started": "2024-08-20T14:22:53.000773Z"
    },
    "id": "VR5z8S6vfHb3"
   },
   "outputs": [
    {
     "data": {
      "image/png": "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",
      "text/plain": [
       "<Figure size 1200x600 with 2 Axes>"
      ]
     },
     "metadata": {},
     "output_type": "display_data"
    }
   ],
=======
   "cell_type": "code",
   "execution_count": null,
   "metadata": {
    "id": "VR5z8S6vfHb3"
   },
   "outputs": [],
>>>>>>> 340cc2901908e4fab16dbb92ee5b8fe91b190036
   "source": [
    "plt.figure(figsize=(12, 6))\n",
    "\n",
    "# Plot training & validation loss values\n",
    "plt.subplot(1, 2, 1)\n",
<<<<<<< HEAD
    "plt.plot(history.history['loss'], c='#D81B60')\n",
    "plt.plot(history.history['val_loss'], c='#1E88E5')\n",
=======
    "plt.plot(history.history['loss'])\n",
    "plt.plot(history.history['val_loss'])\n",
>>>>>>> 340cc2901908e4fab16dbb92ee5b8fe91b190036
    "plt.title('Model loss')\n",
    "plt.xlabel('Epoch')\n",
    "plt.ylabel('Loss')\n",
    "plt.legend(['Train', 'Test'], loc='upper left')\n",
    "\n",
    "# Plot training & validation accuracy values\n",
    "plt.subplot(1, 2, 2)\n",
<<<<<<< HEAD
    "plt.plot(history.history['accuracy'], c='#D81B60')\n",
    "plt.plot(history.history['val_accuracy'], c='#1E88E5')\n",
=======
    "plt.plot(history.history['accuracy'])\n",
    "plt.plot(history.history['val_accuracy'])\n",
>>>>>>> 340cc2901908e4fab16dbb92ee5b8fe91b190036
    "plt.title('Model accuracy')\n",
    "plt.xlabel('Epoch')\n",
    "plt.ylabel('Accuracy')\n",
    "plt.legend(['Train', 'Test'], loc='upper left')\n",
<<<<<<< HEAD
    "plt.savefig(\"model_acc.jpg\")\n",
=======
    "\n",
>>>>>>> 340cc2901908e4fab16dbb92ee5b8fe91b190036
    "plt.show()"
   ]
  },
  {
<<<<<<< HEAD
   "cell_type": "markdown",
   "metadata": {},
   "source": [
    "##### Confusion Matrix"
   ]
  },
  {
   "cell_type": "code",
   "execution_count": 37,
   "metadata": {
    "execution": {
     "iopub.execute_input": "2024-08-20T14:22:53.611537Z",
     "iopub.status.busy": "2024-08-20T14:22:53.611159Z",
     "iopub.status.idle": "2024-08-20T14:23:02.430258Z",
     "shell.execute_reply": "2024-08-20T14:23:02.429289Z",
     "shell.execute_reply.started": "2024-08-20T14:22:53.611500Z"
    },
    "id": "rz0hWwM4hDLT"
   },
   "outputs": [
    {
     "name": "stdout",
     "output_type": "stream",
     "text": [
      "49/49 [==============================] - 7s 133ms/step\n",
      "Confusion Matrix:\n",
      "[[1517   30]\n",
      " [  30 1517]]\n"
     ]
    }
   ],
=======
   "cell_type": "code",
   "execution_count": null,
   "metadata": {
    "id": "rz0hWwM4hDLT"
   },
   "outputs": [],
>>>>>>> 340cc2901908e4fab16dbb92ee5b8fe91b190036
   "source": [
    "# Predict and evaluate\n",
    "y_pred = (model.predict(X_test) > 0.5).astype(\"int32\")\n",
    "\n",
    "# Flatten y_test and y_pred\n",
    "y_test_flat = y_test.flatten()\n",
    "y_pred_flat = y_pred.flatten()\n",
    "\n",
    "# Compute confusion matrix\n",
    "cm = confusion_matrix(y_test_flat, y_pred_flat)\n",
    "print(\"Confusion Matrix:\")\n",
<<<<<<< HEAD
    "print(cm)"
   ]
  },
  {
   "cell_type": "markdown",
   "metadata": {},
   "source": [
    "##### Classification Report"
   ]
  },
  {
   "cell_type": "code",
   "execution_count": 38,
   "metadata": {
    "execution": {
     "iopub.execute_input": "2024-08-20T14:23:02.432070Z",
     "iopub.status.busy": "2024-08-20T14:23:02.431582Z",
     "iopub.status.idle": "2024-08-20T14:23:02.447565Z",
     "shell.execute_reply": "2024-08-20T14:23:02.446699Z",
     "shell.execute_reply.started": "2024-08-20T14:23:02.432033Z"
    }
   },
   "outputs": [
    {
     "name": "stdout",
     "output_type": "stream",
     "text": [
      "\n",
      "Classification Report:\n",
      "              precision    recall  f1-score   support\n",
      "\n",
      "         0.0       0.98      0.98      0.98      1547\n",
      "         1.0       0.98      0.98      0.98      1547\n",
      "\n",
      "    accuracy                           0.98      3094\n",
      "   macro avg       0.98      0.98      0.98      3094\n",
      "weighted avg       0.98      0.98      0.98      3094\n",
      "\n"
     ]
    }
   ],
   "source": [
=======
    "print(cm)\n",
    "\n",
>>>>>>> 340cc2901908e4fab16dbb92ee5b8fe91b190036
    "# Classification report\n",
    "print(\"\\nClassification Report:\")\n",
    "print(classification_report(y_test_flat, y_pred_flat))"
   ]
  },
  {
<<<<<<< HEAD
   "cell_type": "markdown",
   "metadata": {},
   "source": [
    "### Exporting the model"
   ]
  },
  {
   "cell_type": "code",
   "execution_count": 39,
   "metadata": {
    "execution": {
     "iopub.execute_input": "2024-08-20T14:23:02.448871Z",
     "iopub.status.busy": "2024-08-20T14:23:02.448596Z",
     "iopub.status.idle": "2024-08-20T14:23:02.650674Z",
     "shell.execute_reply": "2024-08-20T14:23:02.649662Z",
     "shell.execute_reply.started": "2024-08-20T14:23:02.448847Z"
    }
   },
=======
   "cell_type": "code",
   "execution_count": null,
   "metadata": {},
>>>>>>> 340cc2901908e4fab16dbb92ee5b8fe91b190036
   "outputs": [],
   "source": [
    "# Save the trained model\n",
    "model.save('weapon_class.h5')"
   ]
  }
 ],
 "metadata": {
  "accelerator": "GPU",
  "colab": {
   "gpuType": "T4",
   "provenance": []
  },
  "kaggle": {
   "accelerator": "nvidiaTeslaT4",
   "dataSources": [],
   "dockerImageVersionId": 30747,
   "isGpuEnabled": true,
   "isInternetEnabled": true,
   "language": "python",
   "sourceType": "notebook"
  },
  "kernelspec": {
   "display_name": "Python 3 (ipykernel)",
   "language": "python",
   "name": "python3"
  },
  "language_info": {
   "codemirror_mode": {
    "name": "ipython",
    "version": 3
   },
   "file_extension": ".py",
   "mimetype": "text/x-python",
   "name": "python",
   "nbconvert_exporter": "python",
   "pygments_lexer": "ipython3",
   "version": "3.9.19"
  }
 },
 "nbformat": 4,
 "nbformat_minor": 4
}
