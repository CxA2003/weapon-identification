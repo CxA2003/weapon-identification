{
 "cells": [
  {
   "cell_type": "markdown",
   "metadata": {},
   "source": [
    "# DISCLAIMER:\n",
    "##### This notebook is **ONLY** an example of running a Streamlit App using Google Colab. The purpose of this content is to provide an alternative for users who have trouble running Streamlit due to packages incompatibilities. **DO NOT RUN LOCALLY**\n",
    "\n",
    "To run your own Streamlit app using a local machine, it's strongly encouraged to create a virtual environment using [**Conda**](https://conda.io/projects/conda/en/latest/user-guide/tasks/manage-environments.html) or [**Python's Virtual Environments**](https://docs.python.org/3/library/venv.html) to avoid conflicts.\n",
    "\n",
    "( For a tutorial on how to upload this notebook to Google Colab, click -> [HERE](https://www.youtube.com/watch?v=R3sKKvMCwTo) )"
   ]
  },
  {
   "cell_type": "markdown",
   "metadata": {},
   "source": [
    "#### Installing the required libraries"
   ]
  },
  {
   "cell_type": "code",
   "execution_count": null,
   "metadata": {
    "colab": {
     "base_uri": "https://localhost:8080/"
    },
    "id": "0anKKKdme1kD",
    "outputId": "2fc575e8-dc39-470b-e142-9b240fba80a3"
   },
   "outputs": [],
   "source": [
    "!pip install streamlit\n",
    "!pip install tensorflow keras pillow\n",
    "!pip install pyngrok"
   ]
  },
  {
   "cell_type": "markdown",
   "metadata": {},
   "source": [
    "#### Importing ngrok"
   ]
  },
  {
   "cell_type": "code",
   "execution_count": null,
   "metadata": {
    "colab": {
     "base_uri": "https://localhost:8080/"
    },
    "id": "GsAoWyKyvU-b",
    "outputId": "6d16cf9a-3000-443f-a373-607fc2093d56"
   },
   "outputs": [],
   "source": [
    "# Install and run ngrok to tunnel the Streamlit app\n",
    "from pyngrok import ngrok"
   ]
  },
  {
   "cell_type": "markdown",
   "metadata": {},
   "source": [
    "#### Adding ngrok token\n",
    "(Add your personal Authotoken. Steps to get it are found on README.md)"
   ]
  },
  {
   "cell_type": "code",
   "execution_count": null,
   "metadata": {},
   "outputs": [],
   "source": [
    "# Activate your ngrok token (required to run app)\n",
    "ngrok.set_auth_token(\"YOUR_AUTHTOKEN\")"
   ]
  },
  {
   "cell_type": "markdown",
   "metadata": {},
   "source": [
    "#### Creating the app.py file\n",
    "This step can (and should) be omitted if you upload the `app.py` file from your computer to the temporal of your Google Colab session\n",
    "\n",
    "If you wish to have the `app.py` file here to avoid uploading it, un-comment the code block below"
   ]
  },
  {
   "cell_type": "code",
   "execution_count": null,
   "metadata": {},
   "outputs": [],
   "source": [
    "# %%writefile app.py\n",
    "# import streamlit as st\n",
    "# import tensorflow as tf\n",
    "# from PIL import Image\n",
    "# import numpy as np\n",
    "\n",
    "# st.title('Is there a weapon?')\n",
    "# st.write('Streamlit app made by Cesar Fernandez')\n",
    "\n",
    "# page = st.sidebar.selectbox(\n",
    "#     'Page',\n",
    "#     ('Home', 'Weapon Identifier')\n",
    "# )\n",
    "\n",
    "\n",
    "# base_css = \"\"\"\n",
    "#     <style>\n",
    "#     .st-emotion-cache-h4xjwg {\n",
    "#         background-color: #060606;\n",
    "#         color: #ECECEC;\n",
    "#     }\n",
    "#     .st-emotion-cache-6qob1r {\n",
    "#         background-color: #060606;\n",
    "#     }\n",
    "#     </style>\n",
    "#     \"\"\"\n",
    "\n",
    "# st.markdown(base_css, unsafe_allow_html=True)\n",
    "\n",
    "# if page == 'Home':\n",
    "#     css_code = \"\"\"\n",
    "#     <style>\n",
    "#     h1, h3 {\n",
    "#         color: white\n",
    "#     }\n",
    "#     header {\n",
    "#         background-color: #1e1e1e;\n",
    "#         color: white;\n",
    "#     }\n",
    "#     .main {\n",
    "#         background-color: #3e4172;\n",
    "#         opacity: 1;\n",
    "#         background: radial-gradient(circle, transparent 20%, #3e4172 20%, #3e4172 80%, transparent 80%, transparent), radial-gradient(circle, transparent 20%, #3e4172 20%, #3e4172 80%, transparent 80%, transparent) 10px 10px, linear-gradient(#000000 0.8px, transparent 0.8px) 0 -0.4px, linear-gradient(90deg, #000000 0.8px, #3e4172 0.8px) -0.4px 0;\n",
    "#         background-size: 20px 20px, 20px 20px, 10px 10px, 10px 10px;\n",
    "#     }\n",
    "#     .st-emotion-cache-1n76uvr {\n",
    "#         background-color: #1e1e1e;\n",
    "#         color: white;\n",
    "#         display: flex;\n",
    "#         align-items: center;\n",
    "#         text-align: center;\n",
    "#         padding: 3rem;\n",
    "#         border-radius: 20px;\n",
    "#         box-shadow: 0 0 10px #a8c0ff;\n",
    "#     }\n",
    "#     .st-emotion-cache-13ln4jf {\n",
    "#         width: 100%;\n",
    "#         padding: 6rem 1rem 6rem;\n",
    "#         max-width: 46rem;\n",
    "#     }\n",
    "#     .st-emotion-cache-1sno8jx img {\n",
    "#         border-radius: 10px;\n",
    "#     }\n",
    "#     </style>\n",
    "#     \"\"\"\n",
    "\n",
    "#     st.markdown(css_code, unsafe_allow_html=True)\n",
    "#     st.subheader('About this project')\n",
    "#     st.write('''\n",
    "# This Streamlit app allows the user to upload images and determine if they contain\n",
    "# a weapon with a model that reached a 99% precision.\n",
    "#     ''')\n",
    "#     st.markdown(\"[![Foo](https://assets.bwbx.io/images/users/iqjWHBFdfxIU/iAhX.YnazclY/v1/-1x-1.jpg)]()\")\n",
    "\n",
    "# if page == 'Weapon Identifier':\n",
    "#     css_code = \"\"\"\n",
    "#     <style>\n",
    "#     h1, h3 {\n",
    "#         color: white\n",
    "#     }\n",
    "#     header {\n",
    "#         background-color: #1e1e1e;\n",
    "#         color: white;\n",
    "#     }\n",
    "#     .main {\n",
    "#         background-color: #3e4172;\n",
    "#         opacity: 1;\n",
    "#         background: radial-gradient(circle, transparent 20%, #3e4172 20%, #3e4172 80%, transparent 80%, transparent), radial-gradient(circle, transparent 20%, #3e4172 20%, #3e4172 80%, transparent 80%, transparent) 10px 10px, linear-gradient(#000000 0.8px, transparent 0.8px) 0 -0.4px, linear-gradient(90deg, #000000 0.8px, #3e4172 0.8px) -0.4px 0;\n",
    "#         background-size: 20px 20px, 20px 20px, 10px 10px, 10px 10px;\n",
    "#     }\n",
    "#     .st-emotion-cache-1n76uvr {\n",
    "#         background-color: #1e1e1e;\n",
    "#         color: white;\n",
    "#         display: flex;\n",
    "#         align-items: center;\n",
    "#         text-align: center;\n",
    "#         padding: 3rem;\n",
    "#         border-radius: 20px;\n",
    "#         box-shadow: 0 0 10px #a8c0ff;\n",
    "#     }\n",
    "#     .st-emotion-cache-13ln4jf {\n",
    "#         width: 100%;\n",
    "#         padding: 6rem 1rem 6rem;\n",
    "#         max-width: 46rem;\n",
    "#     }\n",
    "#     .st-emotion-cache-1sno8jx img {\n",
    "#         border-radius: 10px;\n",
    "#     }\n",
    "#     .st-emotion-cache-qgowjl p{\n",
    "#         color:white;\n",
    "#         padding-left: 1rem;\n",
    "#     }\n",
    "#     .st-emotion-cache-7oyrr6, .st-emotion-cache-9ycgxx {\n",
    "#         color: white;\n",
    "#     }\n",
    "#     .st-emotion-cache-1erivf3 {\n",
    "#         background-color: transparent;\n",
    "#     }\n",
    "#     .st-emotion-cache-15hul6a {\n",
    "#         background-color: #1e1e1e;\n",
    "#         color: white;\n",
    "#         border-color: #1e1e1e;\n",
    "#     }\n",
    "#     .st-emotion-cache-15hul6a::hover {\n",
    "#         background-color: #1e1e1e;\n",
    "#         color: white\n",
    "#     }\n",
    "#     .st-emotion-cache-1v0mbdj {\n",
    "#         margin: 0 auto;\n",
    "#     }\n",
    "#     .st-emotion-cache-7oyrr6, .st-emotion-cache-9ycgxx {\n",
    "#       color: white;\n",
    "#     }\n",
    "#     </style>\n",
    "#     \"\"\"\n",
    "\n",
    "#     st.markdown(css_code, unsafe_allow_html=True)\n",
    "#     st.subheader(\"Model testing\")\n",
    "#     st.write('For now, the model is only compatible with .jpg images.')\n",
    "#     uploaded_file = st.file_uploader(\n",
    "#         label=\"File uploading section\",\n",
    "#         type=['jpg'],\n",
    "#         accept_multiple_files=False\n",
    "#     )\n",
    "\n",
    "#     if uploaded_file is not None:\n",
    "#         # Load the model\n",
    "#         model = tf.keras.models.load_model('/content/weapon_class.h5')\n",
    "#         model.summary()\n",
    "\n",
    "#         # Convert the uploaded file to an image\n",
    "#         img = Image.open(uploaded_file)\n",
    "#         st.image(img, caption=\"Uploaded by user\", width=500)\n",
    "\n",
    "#         # Preprocess the image\n",
    "#         img = img.resize((224, 224, 3))\n",
    "#         img_array = np.array(img)\n",
    "#         img_array = tf.keras.applications.resnet.preprocess_input(img_array)\n",
    "#         img_array = np.expand_dims(img_array, axis=0)\n",
    "\n",
    "#         # Predict the result\n",
    "#         prediction = model.predict(img_array)\n",
    "#         class_label = np.argmax(prediction, axis=1)[0]\n",
    "#         probability = np.max(prediction)\n",
    "\n",
    "#         st.write(\"And the result is...\")\n",
    "#         if class_label == 0:\n",
    "#             st.write(f\"⚠️ Weapon detected! (Probability: {probability:.2f})\")\n",
    "#         else:\n",
    "#             st.write(f\"✅ No weapon detected. (Probability: {probability:.2f})\")\n",
    "#     else:\n",
    "#         st.write(\"Please, upload an image!\")\n"
   ]
  },
  {
   "cell_type": "markdown",
   "metadata": {},
   "source": [
    "#### Setting up the URL for the Streamlit app and Running it"
   ]
  },
  {
   "cell_type": "code",
   "execution_count": null,
   "metadata": {},
   "outputs": [],
   "source": [
    "# Set up a public URL for the Streamlit app using ngrok\n",
    "public_url = ngrok.connect(8501, bind_tls=True)\n",
    "print(f\"Streamlit app is live at {public_url}\")\n",
    "\n",
    "# Run the Streamlit app\n",
    "!streamlit run app.py &>/dev/null&"
   ]
  }
 ],
 "metadata": {
  "colab": {
   "provenance": []
  },
  "kernelspec": {
   "display_name": "Python 3 (ipykernel)",
   "language": "python",
   "name": "python3"
  },
  "language_info": {
   "codemirror_mode": {
    "name": "ipython",
    "version": 3
   },
   "file_extension": ".py",
   "mimetype": "text/x-python",
   "name": "python",
   "nbconvert_exporter": "python",
   "pygments_lexer": "ipython3",
   "version": "3.9.19"
  }
 },
 "nbformat": 4,
 "nbformat_minor": 4
}
